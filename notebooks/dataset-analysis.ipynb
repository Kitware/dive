{
 "metadata": {
  "language_info": {
   "codemirror_mode": {
    "name": "ipython",
    "version": 3
   },
   "file_extension": ".py",
   "mimetype": "text/x-python",
   "name": "python",
   "nbconvert_exporter": "python",
   "pygments_lexer": "ipython3",
   "version": "3.9.0"
  },
  "orig_nbformat": 2,
  "kernelspec": {
   "name": "python3",
   "display_name": "Python 3.9.0 64-bit ('dive': pyenv)",
   "metadata": {
    "interpreter": {
     "hash": "f408ce191dd1fad9c1cfa59fe2244e9187c884643f5ef12fb0718378c32240da"
    }
   }
  }
 },
 "nbformat": 4,
 "nbformat_minor": 2,
 "cells": [
  {
   "source": [
    "# Dataset analysis\n",
    "\n",
    "Examples for working with metadata and annotation data from DIVE Web through the REST API."
   ],
   "cell_type": "markdown",
   "metadata": {}
  },
  {
   "cell_type": "code",
   "execution_count": null,
   "metadata": {},
   "outputs": [],
   "source": [
    "# set your API Key in .env\n",
    "%load_ext dotenv\n",
    "%dotenv\n",
    "\n",
    "import os\n",
    "from pprint import pprint\n",
    "from girder_client import GirderClient\n",
    "from dive_utils import fromMeta\n",
    "\n",
    "GIRDER_API_KEY=os.getenv('GIRDER_API_KEY', 'CHANGEME')\n",
    "diveclient = GirderClient(apiUrl='https://viame.kitware.com/api/v1')\n",
    "token = diveclient.authenticate(apiKey=GIRDER_API_KEY)\n",
    "print(f'Authenticated!')"
   ]
  },
  {
   "cell_type": "code",
   "execution_count": null,
   "metadata": {},
   "outputs": [],
   "source": [
    "# Load dataset metadata\n",
    "DATASET_ID=\"5e4ebcaa78ed364cd0f5e3b9\" # Replace this with your own ID\n",
    "\n",
    "dataset_info = diveclient.getFolder(DATASET_ID)\n",
    "dataset_name = dataset_info['name']\n",
    "dataset_type = fromMeta(dataset_info, 'type')\n",
    "dataset_fps  = fromMeta(dataset_info, 'fps')\n",
    "\n",
    "print(f'Loaded dataset: {dataset_name}\\n')\n",
    "pprint(dataset_info)"
   ]
  },
  {
   "source": [
    "## Load dataset source media"
   ],
   "cell_type": "markdown",
   "metadata": {}
  },
  {
   "cell_type": "code",
   "execution_count": null,
   "metadata": {
    "tags": []
   },
   "outputs": [],
   "source": [
    "if dataset_type == 'image-sequence':\n",
    "    dataset_media = diveclient.get(\n",
    "        f'viame/valid_images', parameters={'folderId': DATASET_ID})\n",
    "    dataset_media = [item['name'] for item in dataset_media]\n",
    "else:\n",
    "    dataset_media = diveclient.get(\n",
    "        f'viame_detection/clip_meta',\n",
    "        parameters={'folderId': DATASET_ID}\n",
    "    )\n",
    "\n",
    "pprint(dataset_media)"
   ]
  },
  {
   "source": [
    "## Load annotations and summarize contents"
   ],
   "cell_type": "markdown",
   "metadata": {}
  },
  {
   "cell_type": "code",
   "execution_count": null,
   "metadata": {},
   "outputs": [],
   "source": [
    "from dive_tasks import summary\n",
    "\n",
    "dataset_annotations_json = diveclient.get(\n",
    "    'viame_detection',\n",
    "    parameters={'folderId': DATASET_ID},\n",
    ")\n",
    "\n",
    "all_summary = {}\n",
    "summary.summarize_annotations(DATASET_ID, dataset_annotations_json, all_summary)\n",
    "pprint(f'Summary of {DATASET_ID}')\n",
    "pprint([ s.dict() for s in all_summary.values()])"
   ]
  },
  {
   "source": [
    "## Load detections as CSV"
   ],
   "cell_type": "markdown",
   "metadata": {}
  },
  {
   "cell_type": "code",
   "execution_count": null,
   "metadata": {},
   "outputs": [],
   "source": [
    "dataset_annotations_csv = diveclient.get(f'viame_detection/{DATASET_ID}/export_detections', jsonResp=False)\n",
    "print(dataset_annotations_csv.text)"
   ]
  }
 ]
}