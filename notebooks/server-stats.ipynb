{
 "metadata": {
  "language_info": {
   "codemirror_mode": {
    "name": "ipython",
    "version": 3
   },
   "file_extension": ".py",
   "mimetype": "text/x-python",
   "name": "python",
   "nbconvert_exporter": "python",
   "pygments_lexer": "ipython3",
   "version": "3.9.0"
  },
  "orig_nbformat": 4,
  "kernelspec": {
   "name": "python3",
   "display_name": "Python 3.9.0 64-bit ('dive': pyenv)"
  },
  "interpreter": {
   "hash": "f408ce191dd1fad9c1cfa59fe2244e9187c884643f5ef12fb0718378c32240da"
  }
 },
 "nbformat": 4,
 "nbformat_minor": 2,
 "cells": [
  {
   "cell_type": "code",
   "execution_count": 1,
   "metadata": {},
   "outputs": [
    {
     "output_type": "stream",
     "name": "stdout",
     "text": [
      "Authenticated!\n"
     ]
    }
   ],
   "source": [
    "# set your API Key in .env\n",
    "%load_ext dotenv\n",
    "%dotenv\n",
    "\n",
    "import os\n",
    "from pprint import pprint\n",
    "from girder_client import GirderClient\n",
    "from dive_utils import fromMeta\n",
    "\n",
    "GIRDER_API_KEY=os.getenv('GIRDER_API_KEY', 'CHANGEME')\n",
    "diveclient = GirderClient(apiUrl='https://viame.kitware.com/api/v1')\n",
    "token = diveclient.authenticate(apiKey=GIRDER_API_KEY)\n",
    "print(f'Authenticated!')"
   ]
  },
  {
   "cell_type": "code",
   "execution_count": 2,
   "metadata": {},
   "outputs": [],
   "source": [
    "from typing import Callable, Iterable\n",
    "from dive_utils.constants import PublishedMarker\n",
    "\n",
    "def unpaginate_documents(getter: Callable[[int, int], Iterable]):\n",
    "    \"\"\"\n",
    "    Tages a paginated getter and unravels it into an array of items\n",
    "    \"\"\"\n",
    "    limit = 1000\n",
    "    offset = 0\n",
    "    documents = []\n",
    "    page = []\n",
    "\n",
    "    while True:\n",
    "        page = getter(limit, offset)\n",
    "        documents.extend(page)\n",
    "        offset += limit\n",
    "        if len(page) == 0:\n",
    "            break;\n",
    "\n",
    "    return documents\n",
    "\n",
    "def getDatasets(limit, offset):\n",
    "    return diveclient.get(\n",
    "        'viame/datasets',\n",
    "        parameters={\n",
    "            'limit': limit,\n",
    "            'offset': offset,\n",
    "        },\n",
    "    )\n",
    "\n",
    "def getUsers(limit, offset):\n",
    "    return diveclient.get(\n",
    "        'user',\n",
    "        parameters={\n",
    "            'limit': limit,\n",
    "            'offset': offset,\n",
    "        },\n",
    "    )\n",
    "\n",
    "def getJobs(limit, offset):\n",
    "    return diveclient.get(\n",
    "        'job',\n",
    "        parameters={\n",
    "            'limit': limit,\n",
    "            'offset': offset,\n",
    "        }\n",
    "    )\n",
    "\n",
    "def getSaves(limit, offset):\n",
    "    return [item for item in diveclient.get(\n",
    "        'item',\n",
    "        parameters={\n",
    "            'limit': limit,\n",
    "            'offset': offset,\n",
    "            'text': '*.json', \n",
    "        }\n",
    "    ) if item['meta'].get('detection')]\n",
    "\n",
    "def hostedData(limit, offset):\n",
    "    return diveclient.get(\n",
    "        'assetstore/5e4c1de1a0fc86aa03120c33/files',\n",
    "        parameters={\n",
    "            'limit': limit,\n",
    "            'offset': offset,\n",
    "        }\n",
    "    )"
   ]
  },
  {
   "cell_type": "code",
   "execution_count": 7,
   "metadata": {},
   "outputs": [],
   "source": [
    "users = unpaginate_documents(getUsers)"
   ]
  },
  {
   "cell_type": "code",
   "execution_count": 12,
   "metadata": {},
   "outputs": [],
   "source": [
    "datasets = unpaginate_documents(getDatasets)"
   ]
  },
  {
   "cell_type": "code",
   "execution_count": 49,
   "metadata": {},
   "outputs": [],
   "source": [
    "jobs = unpaginate_documents(getJobs)"
   ]
  },
  {
   "cell_type": "code",
   "execution_count": 69,
   "metadata": {},
   "outputs": [],
   "source": [
    "saves = unpaginate_documents(getSaves)"
   ]
  },
  {
   "cell_type": "code",
   "execution_count": 78,
   "metadata": {},
   "outputs": [],
   "source": [
    "items = unpaginate_documents(hostedData)"
   ]
  },
  {
   "cell_type": "code",
   "execution_count": 9,
   "metadata": {
    "tags": []
   },
   "outputs": [],
   "source": [
    "%matplotlib widget\n",
    "import datetime\n",
    "import matplotlib.pyplot as plt\n",
    "\n",
    "def parseTime(s):\n",
    "    try:\n",
    "        return datetime.datetime.strptime(s, '%Y-%m-%dT%H:%M:%S.%f+00:00')\n",
    "    except ValueError:\n",
    "        return datetime.datetime.strptime(s, '%Y-%m-%dT%H:%M:%S+00:00')\n",
    "\n",
    "def makePlot(items, xkey, ykey, label):\n",
    "\n",
    "    x = sorted([parseTime(item['created']) for item in items])\n",
    "    y = []\n",
    "    last = 0\n",
    "    for i, item in enumerate(items):\n",
    "        if ykey:\n",
    "            y.append(last + item[ykey])\n",
    "            last = last + item[ykey]\n",
    "        else:\n",
    "            y.append(i + 1)\n",
    "            last = i + 1\n",
    "\n",
    "    fig, ax = plt.subplots()\n",
    "    ax.set(xlabel='Time', ylabel=label)\n",
    "    ax.plot(x, y)\n",
    "    plt.gcf().autofmt_xdate()\n",
    "    plt.show()"
   ]
  },
  {
   "cell_type": "code",
   "execution_count": 13,
   "metadata": {},
   "outputs": [
    {
     "output_type": "display_data",
     "data": {
      "text/plain": "Canvas(toolbar=Toolbar(toolitems=[('Home', 'Reset original view', 'home', 'home'), ('Back', 'Back to previous …",
      "application/vnd.jupyter.widget-view+json": {
       "version_major": 2,
       "version_minor": 0,
       "model_id": "77279d166ba8449bbf442c57266707f1"
      }
     },
     "metadata": {}
    },
    {
     "output_type": "display_data",
     "data": {
      "text/plain": "Canvas(toolbar=Toolbar(toolitems=[('Home', 'Reset original view', 'home', 'home'), ('Back', 'Back to previous …",
      "application/vnd.jupyter.widget-view+json": {
       "version_major": 2,
       "version_minor": 0,
       "model_id": "73b4c2a68c1341c8a7a39cbe45f7f5fb"
      }
     },
     "metadata": {}
    }
   ],
   "source": [
    "makePlot(datasets,\"created\", None, \"New datasets\")\n",
    "# makePlot(jobs,\"created\", \"Job executions\")\n",
    "makePlot(users, \"created\", None, \"New registrations\")\n",
    "# makePlot(saves,\"created\", \"Save events\")\n",
    "# makePlot(items,\"created\", \"Hosted data (Terrabytes)\")"
   ]
  }
 ]
}