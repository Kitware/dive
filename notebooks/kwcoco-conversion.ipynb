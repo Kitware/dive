{
 "cells": [
  {
   "cell_type": "markdown",
   "metadata": {},
   "source": [
    "# KWCOCO Conversion\n",
    "\n",
    "Examples for converting between KWCOCO json to DIVE json format."
   ]
  },
  {
   "cell_type": "code",
   "execution_count": null,
   "metadata": {},
   "outputs": [],
   "source": [
    "import json\n",
    "from dive_server.serializers import kwcoco\n",
    "\n",
    "kwcoco_filename = './kwcoco.json'\n",
    "tracks_filename = './result_tracks.json'\n",
    "attributes_filename = './result_attributes.json'\n",
    "\n",
    "with open(kwcoco_filename) as f:\n",
    "    coco_json = json.load(f)\n",
    "\n",
    "tracks, attributes = kwcoco.load_coco_as_tracks_and_attributes(coco_json)\n",
    "with open(tracks_filename, 'w') as f:\n",
    "    json.dump(tracks, f, indent=4)\n",
    "with open(attributes_filename, 'w') as f:\n",
    "    json.dump(attributes, f, indent=4)"
   ]
  }
 ],
 "metadata": {
  "interpreter": {
   "hash": "693d071091c83dd5fdb1ce06f954a654034ac9038f4ca466d0d45041563b3d53"
  },
  "kernelspec": {
   "name": "python3",
   "display_name": "Python 3.8.5 64-bit ('venv': venv)"
  },
  "language_info": {
   "codemirror_mode": {
    "name": "ipython",
    "version": 3
   },
   "file_extension": ".py",
   "mimetype": "text/x-python",
   "name": "python",
   "nbconvert_exporter": "python",
   "pygments_lexer": "ipython3",
   "version": "3.8.5"
  },
  "orig_nbformat": 4
 },
 "nbformat": 4,
 "nbformat_minor": 2
}