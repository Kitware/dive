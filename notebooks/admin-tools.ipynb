{
 "metadata": {
  "language_info": {
   "codemirror_mode": {
    "name": "ipython",
    "version": 3
   },
   "file_extension": ".py",
   "mimetype": "text/x-python",
   "name": "python",
   "nbconvert_exporter": "python",
   "pygments_lexer": "ipython3",
   "version": "3.9.0"
  },
  "orig_nbformat": 2,
  "kernelspec": {
   "name": "python3",
   "display_name": "Python 3.9.0 64-bit ('dive': pyenv)",
   "metadata": {
    "interpreter": {
     "hash": "f408ce191dd1fad9c1cfa59fe2244e9187c884643f5ef12fb0718378c32240da"
    }
   }
  }
 },
 "nbformat": 4,
 "nbformat_minor": 2,
 "cells": [
  {
   "source": [
    "# Admin tools\n",
    "\n",
    "This notebook is a scratch space for administrative actions, and is not intended for DIVE users."
   ],
   "cell_type": "markdown",
   "metadata": {}
  },
  {
   "cell_type": "code",
   "execution_count": null,
   "metadata": {},
   "outputs": [],
   "source": [
    "# set your API Key in .env\n",
    "%load_ext dotenv\n",
    "%dotenv\n",
    "\n",
    "import os\n",
    "from pprint import pprint\n",
    "from girder_client import GirderClient\n",
    "from dive_utils import fromMeta\n",
    "\n",
    "GIRDER_API_KEY=os.getenv('GIRDER_API_KEY', 'CHANGEME')\n",
    "diveclient = GirderClient(apiUrl='https://viame.kitware.com/api/v1')\n",
    "token = diveclient.authenticate(apiKey=GIRDER_API_KEY)\n",
    "print(f'Authenticated!')"
   ]
  },
  {
   "cell_type": "code",
   "execution_count": null,
   "metadata": {
    "tags": []
   },
   "outputs": [],
   "source": [
    "import json\n",
    "for subfolder in diveclient.listFolder('5e4c2817a0fc86aa0315b1a1'):\n",
    "    if subfolder['meta'].get('type', None) == 'image-sequence':\n",
    "        new_metadata = {\n",
    "            'fps': 5\n",
    "            'annotate': True,\n",
    "        }\n",
    "        resp = diveclient.put(\n",
    "            f'folder/{subfolder[\"_id\"]}',\n",
    "            data={'metadata': json.dumps(new_metadata)})\n",
    "        print(resp['meta'])"
   ]
  }
 ]
}